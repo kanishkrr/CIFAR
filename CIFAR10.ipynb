{
 "cells": [
  {
   "cell_type": "code",
   "execution_count": 1,
   "id": "c39f70f2",
   "metadata": {},
   "outputs": [],
   "source": [
    "import os\n",
    "import torch\n",
    "import torch.nn as nn\n",
    "import torch.optim as optim\n",
    "from torch.utils.data import Dataset, DataLoader\n",
    "import torchvision.datasets as dsets\n",
    "import torchvision.transforms as transforms\n",
    "import numpy as np\n",
    "import matplotlib.pyplot as plt"
   ]
  },
  {
   "cell_type": "code",
   "execution_count": 2,
   "id": "8a934720",
   "metadata": {},
   "outputs": [
    {
     "name": "stdout",
     "output_type": "stream",
     "text": [
      "Files already downloaded and verified\n",
      "Files already downloaded and verified\n"
     ]
    }
   ],
   "source": [
    "device = torch.device('mps')\n",
    "\n",
    "train = dsets.CIFAR10(root='data', download=True, train=True, transform = transforms.ToTensor())\n",
    "val = dsets.CIFAR10(root='data', download=True, train=False, transform = transforms.ToTensor())"
   ]
  },
  {
   "cell_type": "code",
   "execution_count": 3,
   "id": "8158d680",
   "metadata": {},
   "outputs": [
    {
     "data": {
      "text/plain": [
       "Text(0.5, 1.0, '0')"
      ]
     },
     "execution_count": 3,
     "metadata": {},
     "output_type": "execute_result"
    },
    {
     "data": {
      "image/png": "[encoded data removed]",
      "text/plain": [
       "<Figure size 640x480 with 1 Axes>"
      ]
     },
     "metadata": {},
     "output_type": "display_data"
    }
   ],
   "source": [
    "num = 30\n",
    "\n",
    "plt.imshow(train[num][0].permute(1, 2 ,0))\n",
    "plt.title(train[num][1])"
   ]
  },
  {
   "cell_type": "code",
   "execution_count": 4,
   "id": "4a642bab",
   "metadata": {},
   "outputs": [
    {
     "data": {
      "text/plain": [
       "50000"
      ]
     },
     "execution_count": 4,
     "metadata": {},
     "output_type": "execute_result"
    }
   ],
   "source": [
    "len(train)"
   ]
  },
  {
   "cell_type": "code",
   "execution_count": 5,
   "id": "95fac11e",
   "metadata": {},
   "outputs": [
    {
     "data": {
      "text/plain": [
       "torch.Size([3, 32, 32])"
      ]
     },
     "execution_count": 5,
     "metadata": {},
     "output_type": "execute_result"
    }
   ],
   "source": [
    "train[0][0].shape"
   ]
  },
  {
   "cell_type": "code",
   "execution_count": 6,
   "id": "6d2b2358",
   "metadata": {},
   "outputs": [],
   "source": [
    "trainloader = DataLoader(dataset=train, batch_size = 100)\n",
    "valloader = DataLoader(dataset=val, batch_size = 3000)"
   ]
  },
  {
   "cell_type": "code",
   "execution_count": 11,
   "id": "d17a8911",
   "metadata": {},
   "outputs": [
    {
     "data": {
      "text/plain": [
       "torch.Size([1, 10])"
      ]
     },
     "execution_count": 11,
     "metadata": {},
     "output_type": "execute_result"
    }
   ],
   "source": [
    "torch.manual_seed(2)\n",
    "p = 0.5\n",
    "\n",
    "class Net(nn.Module):\n",
    "    \n",
    "    def __init__(self):\n",
    "        super(Net, self).__init__()\n",
    "        \n",
    "        self.layer1 = nn.Sequential(\n",
    "            nn.Conv2d(in_channels=3, out_channels=32, kernel_size=(7, 7), padding=2, stride=1),\n",
    "            nn.BatchNorm2d(32), \n",
    "            nn.ReLU(inplace=True), \n",
    "            nn.MaxPool2d(kernel_size=(2, 2), stride=2, dilation=1)\n",
    "        )\n",
    "        \n",
    "        self.layer2 = nn.Sequential(\n",
    "            nn.Conv2d(in_channels=32, out_channels=64, kernel_size=(4, 4), padding=1),\n",
    "            nn.BatchNorm2d(64), \n",
    "            nn.ReLU(inplace=True), \n",
    "            nn.MaxPool2d(kernel_size=(2, 2), stride=1, dilation=1)\n",
    "        )\n",
    "        \n",
    "        self.layer3 = nn.Sequential(\n",
    "            nn.Conv2d(in_channels=64, out_channels=128, kernel_size=(3, 3), stride=2),\n",
    "            nn.BatchNorm2d(128), \n",
    "            nn.ReLU(inplace=True), \n",
    "            nn.MaxPool2d(kernel_size=(2, 2), stride=1, dilation=1)\n",
    "        )\n",
    "        \n",
    "        self.flat = nn.Flatten(1)\n",
    "        self.linear1 = nn.Linear(3200, 2000)\n",
    "        self.dp1 = nn.Dropout(p)\n",
    "        self.linear2 = nn.Linear(2000, 1000)\n",
    "        self.dp2 = nn.Dropout(p)\n",
    "        self.linear3 = nn.Linear(1000, 500)\n",
    "        self.linear4 = nn.Linear(500, 10)\n",
    "        \n",
    "    def forward(self, x):\n",
    "        \n",
    "        x = self.layer1(x)\n",
    "        x = self.layer2(x)\n",
    "        x = self.layer3(x)\n",
    "        x = self.flat(x)\n",
    "        x = torch.relu(self.linear1(x))\n",
    "        x = self.dp1(x)\n",
    "        x = torch.relu(self.linear2(x))\n",
    "        x = self.dp2(x)\n",
    "        x = self.linear3(x)\n",
    "        x = self.linear4(x)\n",
    "        return x\n",
    "    \n",
    "model = Net()\n",
    "model.to(device)\n",
    "model((train[0][0].unsqueeze(0)).to(device)).shape"
   ]
  },
  {
   "cell_type": "code",
   "execution_count": 12,
   "id": "2ec30f00",
   "metadata": {},
   "outputs": [],
   "source": [
    "optimizer = optim.SGD(model.parameters(), lr = 0.004, momentum=0.9)\n",
    "criterion = nn.CrossEntropyLoss()"
   ]
  },
  {
   "cell_type": "code",
   "execution_count": 13,
   "id": "c89f20c1",
   "metadata": {},
   "outputs": [
    {
     "name": "stdout",
     "output_type": "stream",
     "text": [
      "epoch 0 accuracy: 46.1\n",
      "epoch 1 accuracy: 51.64\n",
      "epoch 2 accuracy: 45.53\n",
      "epoch 3 accuracy: 56.11000000000001\n",
      "epoch 4 accuracy: 67.73\n",
      "epoch 5 accuracy: 67.75999999999999\n",
      "epoch 6 accuracy: 66.86\n",
      "epoch 7 accuracy: 66.66\n",
      "epoch 8 accuracy: 55.089999999999996\n",
      "epoch 9 accuracy: 59.38\n",
      "epoch 10 accuracy: 64.71000000000001\n",
      "epoch 11 accuracy: 73.72999999999999\n",
      "epoch 12 accuracy: 72.26\n",
      "epoch 13 accuracy: 75.0\n",
      "epoch 14 accuracy: 74.11999999999999\n",
      "epoch 15 accuracy: 75.33\n",
      "epoch 16 accuracy: 77.52\n",
      "epoch 17 accuracy: 76.13\n",
      "epoch 18 accuracy: 77.0\n",
      "epoch 19 accuracy: 78.53\n",
      "epoch 20 accuracy: 77.69\n",
      "epoch 21 accuracy: 72.58\n",
      "epoch 22 accuracy: 79.11\n",
      "epoch 23 accuracy: 75.82\n",
      "epoch 24 accuracy: 76.38000000000001\n",
      "epoch 25 accuracy: 72.77\n",
      "epoch 26 accuracy: 75.07000000000001\n",
      "epoch 27 accuracy: 77.4\n",
      "epoch 28 accuracy: 74.53\n",
      "epoch 29 accuracy: 79.36999999999999\n",
      "epoch 30 accuracy: 75.75\n",
      "epoch 31 accuracy: 76.29\n",
      "epoch 32 accuracy: 80.65\n",
      "epoch 33 accuracy: 80.54\n",
      "epoch 34 accuracy: 78.93\n",
      "epoch 35 accuracy: 80.58\n",
      "epoch 36 accuracy: 78.64999999999999\n",
      "epoch 37 accuracy: 80.55\n",
      "epoch 38 accuracy: 80.93\n",
      "epoch 39 accuracy: 79.65\n",
      "epoch 40 accuracy: 79.52\n",
      "epoch 41 accuracy: 79.36\n",
      "epoch 42 accuracy: 80.5\n",
      "epoch 43 accuracy: 81.42\n",
      "epoch 44 accuracy: 81.25\n",
      "epoch 45 accuracy: 80.95\n",
      "epoch 46 accuracy: 79.78\n",
      "epoch 47 accuracy: 80.78\n",
      "epoch 48 accuracy: 79.57\n",
      "epoch 49 accuracy: 81.16\n",
      "epoch 50 accuracy: 80.30000000000001\n",
      "epoch 51 accuracy: 81.49\n",
      "epoch 52 accuracy: 79.53\n",
      "epoch 53 accuracy: 81.17999999999999\n",
      "epoch 54 accuracy: 81.28999999999999\n",
      "epoch 55 accuracy: 80.21000000000001\n",
      "epoch 56 accuracy: 81.67999999999999\n",
      "epoch 57 accuracy: 80.58999999999999\n",
      "epoch 58 accuracy: 81.77\n",
      "epoch 59 accuracy: 80.27\n",
      "epoch 60 accuracy: 80.45\n",
      "epoch 61 accuracy: 81.86\n",
      "epoch 62 accuracy: 81.35\n",
      "epoch 63 accuracy: 80.39\n",
      "epoch 64 accuracy: 81.65\n",
      "epoch 65 accuracy: 82.58\n",
      "epoch 66 accuracy: 81.58999999999999\n",
      "epoch 67 accuracy: 82.02000000000001\n",
      "epoch 68 accuracy: 81.85\n",
      "epoch 69 accuracy: 82.13000000000001\n",
      "epoch 70 accuracy: 79.73\n",
      "epoch 71 accuracy: 81.61\n",
      "epoch 72 accuracy: 81.41000000000001\n",
      "epoch 73 accuracy: 81.81\n",
      "epoch 74 accuracy: 81.62\n",
      "epoch 75 accuracy: 81.78999999999999\n",
      "epoch 76 accuracy: 80.67\n",
      "epoch 77 accuracy: 82.39\n",
      "epoch 78 accuracy: 81.93\n",
      "epoch 79 accuracy: 81.97\n",
      "epoch 80 accuracy: 81.63\n",
      "epoch 81 accuracy: 81.73\n",
      "epoch 82 accuracy: 82.34\n",
      "epoch 83 accuracy: 82.11\n",
      "epoch 84 accuracy: 81.94\n",
      "epoch 85 accuracy: 82.12\n",
      "epoch 86 accuracy: 82.14\n",
      "epoch 87 accuracy: 81.94\n",
      "epoch 88 accuracy: 82.25\n",
      "epoch 89 accuracy: 82.6\n",
      "epoch 90 accuracy: 82.34\n",
      "epoch 91 accuracy: 81.8\n",
      "epoch 92 accuracy: 82.22\n",
      "epoch 93 accuracy: 82.19\n",
      "epoch 94 accuracy: 81.38\n",
      "epoch 95 accuracy: 81.88\n",
      "epoch 96 accuracy: 82.22\n",
      "epoch 97 accuracy: 82.32000000000001\n",
      "epoch 98 accuracy: 81.84\n",
      "epoch 99 accuracy: 81.89\n"
     ]
    }
   ],
   "source": [
    "epochs = 100\n",
    "\n",
    "COST = []\n",
    "ACCURACY = []\n",
    "\n",
    "for epoch in range(epochs):\n",
    "    \n",
    "    i = 0\n",
    "    \n",
    "    model.train()\n",
    "    for x,y in trainloader:\n",
    "        \n",
    "        x, y = x.to(device), y.to(device)\n",
    "        z = model(x)\n",
    "        loss = criterion(z, y)\n",
    "        COST.append(loss.item())\n",
    "        optimizer.zero_grad()\n",
    "        loss.backward()\n",
    "        optimizer.step()\n",
    "    \n",
    "    correct = 0\n",
    "    total = 0\n",
    "    \n",
    "    model.eval()\n",
    "    for x,y in valloader:\n",
    "        \n",
    "        x, y = x.to(device), y.to(device)\n",
    "        \n",
    "        z = model(x)\n",
    "        _, yhat = torch.max(z, 1)\n",
    "        \n",
    "        correct += (yhat == y).sum().item()\n",
    "        total += len(y)\n",
    "        \n",
    "    accuracy = (correct/total) * 100\n",
    "    ACCURACY.append(accuracy)\n",
    "    print('epoch ' + str(epoch) + ' accuracy: ' + str(accuracy))"
   ]
  },
  {
   "cell_type": "code",
   "execution_count": 14,
   "id": "b1f0613a",
   "metadata": {},
   "outputs": [
    {
     "data": {
      "text/plain": [
       "Text(0.5, 0, 'iterations')"
      ]
     },
     "execution_count": 14,
     "metadata": {},
     "output_type": "execute_result"
    },
    {
     "data": {
      "image/png": "[encoded data removed]",
      "text/plain": [
       "<Figure size 640x480 with 2 Axes>"
      ]
     },
     "metadata": {},
     "output_type": "display_data"
    }
   ],
   "source": [
    "plt.subplot(2, 1, 1)\n",
    "plt.plot(COST, c='r')\n",
    "plt.title('COST')\n",
    "plt.xlabel('epochs')\n",
    "plt.ylabel('loss')\n",
    "plt.subplot(2, 1, 2)\n",
    "plt.plot(ACCURACY)\n",
    "plt.title('ACCURACY')\n",
    "plt.xlabel('iterations')"
   ]
  },
  {
   "cell_type": "code",
   "execution_count": 15,
   "id": "d3d36d8b",
   "metadata": {},
   "outputs": [
    {
     "data": {
      "text/plain": [
       "['airplane',\n",
       " 'automobile',\n",
       " 'bird',\n",
       " 'cat',\n",
       " 'deer',\n",
       " 'dog',\n",
       " 'frog',\n",
       " 'horse',\n",
       " 'ship',\n",
       " 'truck']"
      ]
     },
     "execution_count": 15,
     "metadata": {},
     "output_type": "execute_result"
    }
   ],
   "source": [
    "train.classes"
   ]
  }
 ],
 "metadata": {
  "kernelspec": {
   "display_name": "Python 3 (ipykernel)",
   "language": "python",
   "name": "python3"
  },
  "language_info": {
   "codemirror_mode": {
    "name": "ipython",
    "version": 3
   },
   "file_extension": ".py",
   "mimetype": "text/x-python",
   "name": "python",
   "nbconvert_exporter": "python",
   "pygments_lexer": "ipython3",
   "version": "3.11.4"
  }
 },
 "nbformat": 4,
 "nbformat_minor": 5
}
